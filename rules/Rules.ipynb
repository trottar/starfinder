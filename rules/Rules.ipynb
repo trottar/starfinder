{
 "cells": [
  {
   "cell_type": "markdown",
   "metadata": {},
   "source": [
    "# Combat\n",
    "## Combat Round\n",
    " * One turn per round per character/npc\n",
    " * One round = 6 (in game) seconds\n",
    " \n",
    "## Initialize\n",
    " * Turns proceed according to _Initialization Order_\n",
    "     * character/npc with highest goes first and so on\n",
    "     * **Initialize check** = 1d20+DexMod\n",
    " * If a tie, character/npc with highest DexMod goes first\n",
    "     * If still a tie, winner of a 1d20 roll goes first\n",
    "\n",
    "## Surprise\n",
    " * **Stealth check** on hidden character/npc and **perception check** on victim\n",
    " * Any character/npc who fails **perception check**, is taken by surprise\n",
    "     * A _surprise round_ begins if at least one character/npc fails\n",
    "     * Surprised characters do not act during a _surprise round_ and get **Flat-footed** (-2 AC)\n",
    "     * Those not surprised may take 1 _Standard_ and 1 _Swift_ action\n",
    " "
   ]
  },
  {
   "cell_type": "code",
   "execution_count": null,
   "metadata": {},
   "outputs": [],
   "source": []
  }
 ],
 "metadata": {
  "kernelspec": {
   "display_name": "Python 3",
   "language": "python",
   "name": "python3"
  },
  "language_info": {
   "codemirror_mode": {
    "name": "ipython",
    "version": 3
   },
   "file_extension": ".py",
   "mimetype": "text/x-python",
   "name": "python",
   "nbconvert_exporter": "python",
   "pygments_lexer": "ipython3",
   "version": "3.7.4"
  }
 },
 "nbformat": 4,
 "nbformat_minor": 4
}
