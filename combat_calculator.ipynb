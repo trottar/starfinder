{
 "cells": [
  {
   "cell_type": "code",
   "execution_count": 246,
   "metadata": {},
   "outputs": [],
   "source": [
    "import pandas as pd"
   ]
  },
  {
   "cell_type": "code",
   "execution_count": 247,
   "metadata": {},
   "outputs": [
    {
     "name": "stdout",
     "output_type": "stream",
     "text": [
      "          LVL  STR  DEX  CON  INT  WIS  CHA  INIT  SP  HP  ...  Medicine  \\\n",
      "Kyli Ren    1   15   12   14   10   11   11     1   9  11  ...         0   \n",
      "Mivyral     1   10   10    8   12   10   13     1   5  10  ...         6   \n",
      "Orion       1   11   13   10   16   15    4     1   6  10  ...         3   \n",
      "Pabu        1   10   15   10   12   10   16     2   6   8  ...         0   \n",
      "\n",
      "          Mysticism  Perception  Physical Science  Piloting  Sense Motive  \\\n",
      "Kyli Ren          4           4                 0         1             0   \n",
      "Mivyral           0           1                 0         5             5   \n",
      "Orion             6           2                 4         5             2   \n",
      "Pabu              0           0                 0         2             0   \n",
      "\n",
      "          Sleight of Hand  Stealth  Survival             Professions  \n",
      "Kyli Ren                0        0         4                     NaN  \n",
      "Mivyral                 0        5         1              Acting - 0  \n",
      "Orion                   1        1         6                     NaN  \n",
      "Pabu                    0        2         0  Maintenance Worker - 5  \n",
      "\n",
      "[4 rows x 40 columns]\n",
      "{'LVL': {'Kyli Ren': 1, 'Mivyral': 1, 'Orion': 1, 'Pabu': 1}, 'STR': {'Kyli Ren': 15, 'Mivyral': 10, 'Orion': 11, 'Pabu': 10}, 'DEX': {'Kyli Ren': 12, 'Mivyral': 10, 'Orion': 13, 'Pabu': 15}, 'CON': {'Kyli Ren': 14, 'Mivyral': 8, 'Orion': 10, 'Pabu': 10}, 'INT': {'Kyli Ren': 10, 'Mivyral': 12, 'Orion': 16, 'Pabu': 12}, 'WIS': {'Kyli Ren': 11, 'Mivyral': 10, 'Orion': 15, 'Pabu': 10}, 'CHA': {'Kyli Ren': 11, 'Mivyral': 13, 'Orion': 4, 'Pabu': 16}, 'INIT': {'Kyli Ren': 1, 'Mivyral': 1, 'Orion': 1, 'Pabu': 2}, 'SP': {'Kyli Ren': 9, 'Mivyral': 5, 'Orion': 6, 'Pabu': 6}, 'HP': {'Kyli Ren': 11, 'Mivyral': 10, 'Orion': 10, 'Pabu': 8}, 'RP': {'Kyli Ren': 3, 'Mivyral': 2, 'Orion': 3, 'Pabu': 2}, 'EAC': {'Kyli Ren': 12, 'Mivyral': 11, 'Orion': 12, 'Pabu': 13}, 'KAC': {'Kyli Ren': 14, 'Mivyral': 12, 'Orion': 13, 'Pabu': 14}, 'FORT': {'Kyli Ren': 4, 'Mivyral': -1, 'Orion': 0, 'Pabu': 0}, 'REFLEX': {'Kyli Ren': 3, 'Mivyral': 3, 'Orion': 1, 'Pabu': 2}, 'WILL': {'Kyli Ren': 0, 'Mivyral': 3, 'Orion': 4, 'Pabu': 0}, 'Melee': {'Kyli Ren': 4, 'Mivyral': 0, 'Orion': 0, 'Pabu': 0}, 'Range': {'Kyli Ren': 2, 'Mivyral': 1, 'Orion': 1, 'Pabu': 2}, 'Throw': {'Kyli Ren': 4, 'Mivyral': 0, 'Orion': 0, 'Pabu': 0}, 'Weapons': {'Kyli Ren': \"{'Longsword' : '1d8 S'}\", 'Mivyral': \"{'Tactical Dueling Sword' : '1d6 S', 'Azimuth Lazer Pistol' : '1d4 F'}\", 'Orion': \"{'Knife, Survival' : '1d4 S'}\", 'Pabu': \"{'Knife, Survival' : '1d4 S',  'Azimuth Lazer Pistol' : '1d4 F', 'Frag Grenade' : '1d6 P', 'Stickybomb Grenade' : '+2 AB'}\"}, 'Acrobatics': {'Kyli Ren': 2, 'Mivyral': 5, 'Orion': 1, 'Pabu': 2}, 'Athletics': {'Kyli Ren': 4, 'Mivyral': 0, 'Orion': 0, 'Pabu': 4}, 'Bluff': {'Kyli Ren': 1, 'Mivyral': 9, 'Orion': 1, 'Pabu': 3}, 'Computers': {'Kyli Ren': 0, 'Mivyral': 6, 'Orion': 3, 'Pabu': 6}, 'Culture': {'Kyli Ren': 0, 'Mivyral': 6, 'Orion': 7, 'Pabu': 0}, 'Diplomacy': {'Kyli Ren': 0, 'Mivyral': 7, 'Orion': 1, 'Pabu': 3}, 'Disguise': {'Kyli Ren': 0, 'Mivyral': 9, 'Orion': 1, 'Pabu': 3}, 'Engineering': {'Kyli Ren': 0, 'Mivyral': 0, 'Orion': 3, 'Pabu': 6}, 'Intimidate': {'Kyli Ren': 4, 'Mivyral': 3, 'Orion': 1, 'Pabu': 3}, 'Life Science': {'Kyli Ren': 0, 'Mivyral': 0, 'Orion': 3, 'Pabu': 5}, 'Medicine': {'Kyli Ren': 0, 'Mivyral': 6, 'Orion': 3, 'Pabu': 0}, 'Mysticism': {'Kyli Ren': 4, 'Mivyral': 0, 'Orion': 6, 'Pabu': 0}, 'Perception': {'Kyli Ren': 4, 'Mivyral': 1, 'Orion': 2, 'Pabu': 0}, 'Physical Science': {'Kyli Ren': 0, 'Mivyral': 0, 'Orion': 4, 'Pabu': 0}, 'Piloting': {'Kyli Ren': 1, 'Mivyral': 5, 'Orion': 5, 'Pabu': 2}, 'Sense Motive': {'Kyli Ren': 0, 'Mivyral': 5, 'Orion': 2, 'Pabu': 0}, 'Sleight of Hand': {'Kyli Ren': 0, 'Mivyral': 0, 'Orion': 1, 'Pabu': 0}, 'Stealth': {'Kyli Ren': 0, 'Mivyral': 5, 'Orion': 1, 'Pabu': 2}, 'Survival': {'Kyli Ren': 4, 'Mivyral': 1, 'Orion': 6, 'Pabu': 0}, 'Professions': {'Kyli Ren': nan, 'Mivyral': 'Acting - 0', 'Orion': nan, 'Pabu': 'Maintenance Worker - 5'}}\n"
     ]
    }
   ],
   "source": [
    "# Read in character sheets and convert to dataframe\n",
    "char_stat = pd.read_csv('characters/character_stats.csv', index_col=0)\n",
    "print(char_stat)\n",
    "\n",
    "# Convert dataframe to dictionary\n",
    "char_stat = char_stat.to_dict()\n",
    "print(char_stat)"
   ]
  },
  {
   "cell_type": "code",
   "execution_count": 248,
   "metadata": {},
   "outputs": [
    {
     "name": "stdout",
     "output_type": "stream",
     "text": [
      "{'Knife, Survival' : '1d4 S',  'Azimuth Lazer Pistol' : '1d4 F', 'Frag Grenade' : '1d6 P', 'Stickybomb Grenade' : '+2 AB'}\n"
     ]
    }
   ],
   "source": [
    "# How to print nested dictionary value\n",
    "print(char_stat['Weapons']['Pabu'])"
   ]
  },
  {
   "cell_type": "code",
   "execution_count": 249,
   "metadata": {},
   "outputs": [],
   "source": [
    "# Lists to convert from ability score to modifier\n",
    "ability_val = [1,2,3,4,5,6,7,8,9,10,11,12,13,14,15,16,17,18,19,20,21,22,23,24,25,26]\n",
    "mod_val = [-5,-4,-4,-3,-3,-2,-2,-1,-1,0,0,1,1,2,2,3,3,4,4,5,5,6,6,7,7,8]"
   ]
  },
  {
   "cell_type": "code",
   "execution_count": 250,
   "metadata": {},
   "outputs": [],
   "source": [
    "# Function for initialize checks\n",
    "def initialize(character, roll, bonus=0):\n",
    "    try:\n",
    "        char_stat[\"DEX\"][character]\n",
    "    except KeyError:\n",
    "        print(character,\"is not a valid character\")\n",
    "    for i,val in enumerate(ability_val):\n",
    "        if val == char_stat[\"DEX\"][character]:\n",
    "            dex_mod = mod_val[i]\n",
    "            init_check = roll + dex_mod + bonus\n",
    "    print(\"Initialize check =\",roll,\"(roll) +\",dex_mod,\"(DEXMOD) +\",bonus,\"(bonus) =\",init_check)"
   ]
  },
  {
   "cell_type": "code",
   "execution_count": 251,
   "metadata": {},
   "outputs": [
    {
     "name": "stdout",
     "output_type": "stream",
     "text": [
      "Initialize check = 10 (roll) + 1 (DEXMOD) + 0 (bonus) = 11\n"
     ]
    }
   ],
   "source": [
    "initialize(\"Kyli Ren\", 10)"
   ]
  },
  {
   "cell_type": "code",
   "execution_count": 252,
   "metadata": {},
   "outputs": [],
   "source": [
    "# Function for combat results\n",
    "def combat(combat_type, attacker, a_roll, defender, d_roll, a_bonus=0, d_bonus=0):\n",
    "    try:\n",
    "        char_stat[combat_type]\n",
    "    except KeyError:\n",
    "        print(combat_type,\"is not an attack type\")\n",
    "        return\n",
    "    try:\n",
    "        attack_val = a_roll+char_stat[combat_type][attacker]+a_bonus\n",
    "    except KeyError:\n",
    "        print(attacker,\"is not a valid attacker\")\n",
    "        return\n",
    "    try:\n",
    "        defend_val = char_stat['KAC'][defender]\n",
    "    except KeyError:\n",
    "        print(defender,\"is not a valid defender\")   \n",
    "        return\n",
    "    \n",
    "    print(\"----------------------\")\n",
    "    print(attacker,\"vs.\",defender,\"\\n\")\n",
    "    damage = attack_val - defend_val\n",
    "    print(\"Damage check =\",attack_val,\"(attack) -\",defend_val, \"(AC) =\",damage,\"\\n\")\n",
    "    \n",
    "    if damage > 0:\n",
    "        print(\"\\nAttack successful!\")\n",
    "        char_stat['SP'][defender] = char_stat['SP'][defender] - damage\n",
    "        print(defender,\"takes\",damage,\"damage...\")\n",
    "        if char_stat['SP'][defender] <= 0:\n",
    "            char_stat['HP'][defender] = char_stat['HP'][defender] + char_stat['SP'][defender]\n",
    "            print(defender,\"stamina was broken!\")\n",
    "            if char_stat['HP'][defender] <= 0:\n",
    "                char_stat['RP'][defender] = char_stat['RP'][defender] - 1\n",
    "                print(defender,\"has taken too much damage! They are on the verge of death!\")\n",
    "                if char_stat['RP'][defender] <= 0:\n",
    "                    print(\"I'm sorry but\",defender,\"has died in battle!\")\n",
    "                else:                    \n",
    "                    print(char_stat['RP'][defender],\"RP left\")            \n",
    "            else:                    \n",
    "                print(char_stat['HP'][defender],\"HP left\")    \n",
    "        else:                    \n",
    "            print(char_stat['SP'][defender],\"SP left\")\n",
    "    else:\n",
    "        print(\"\\nAttack failed!\")\n",
    "        \n",
    "    print(\"----------------------\")\n",
    "    return\n",
    "        \n",
    "    "
   ]
  },
  {
   "cell_type": "code",
   "execution_count": 253,
   "metadata": {},
   "outputs": [
    {
     "name": "stdout",
     "output_type": "stream",
     "text": [
      "----------------------\n",
      "Kyli Ren vs. Mivyral \n",
      "\n",
      "Damage check = 24 (attack) - 12 (AC) = 12 \n",
      "\n",
      "\n",
      "Attack successful!\n",
      "Mivyral takes 12 damage...\n",
      "Mivyral stamina was broken!\n",
      "3 HP left\n",
      "----------------------\n",
      "----------------------\n",
      "Kyli Ren vs. Orion \n",
      "\n",
      "Damage check = 24 (attack) - 13 (AC) = 11 \n",
      "\n",
      "\n",
      "Attack successful!\n",
      "Orion takes 11 damage...\n",
      "Orion stamina was broken!\n",
      "5 HP left\n",
      "----------------------\n",
      "----------------------\n",
      "Kyli Ren vs. Pabu \n",
      "\n",
      "Damage check = 24 (attack) - 14 (AC) = 10 \n",
      "\n",
      "\n",
      "Attack successful!\n",
      "Pabu takes 10 damage...\n",
      "Pabu stamina was broken!\n",
      "4 HP left\n",
      "----------------------\n",
      "----------------------\n",
      "Kyli Ren vs. Pabu \n",
      "\n",
      "Damage check = 24 (attack) - 14 (AC) = 10 \n",
      "\n",
      "\n",
      "Attack successful!\n",
      "Pabu takes 10 damage...\n",
      "Pabu stamina was broken!\n",
      "Pabu has taken too much damage! They are on the verge of death!\n",
      "1 RP left\n",
      "----------------------\n",
      "----------------------\n",
      "Kyli Ren vs. Pabu \n",
      "\n",
      "Damage check = 24 (attack) - 14 (AC) = 10 \n",
      "\n",
      "\n",
      "Attack successful!\n",
      "Pabu takes 10 damage...\n",
      "Pabu stamina was broken!\n",
      "Pabu has taken too much damage! They are on the verge of death!\n",
      "I'm sorry but Pabu has died in battle!\n",
      "----------------------\n"
     ]
    }
   ],
   "source": [
    "attack_roll = 20\n",
    "defend_roll = 4\n",
    "combat(\"Melee\",\"Kyli Ren\",attack_roll,\"Mivyral\",defend_roll)\n",
    "combat(\"Melee\",\"Kyli Ren\",attack_roll,\"Orion\",defend_roll)\n",
    "combat(\"Melee\",\"Kyli Ren\",attack_roll,\"Pabu\",defend_roll)\n",
    "combat(\"Melee\",\"Kyli Ren\",attack_roll,\"Pabu\",defend_roll)\n",
    "combat(\"Melee\",\"Kyli Ren\",attack_roll,\"Pabu\",defend_roll)"
   ]
  },
  {
   "cell_type": "code",
   "execution_count": null,
   "metadata": {},
   "outputs": [],
   "source": []
  }
 ],
 "metadata": {
  "kernelspec": {
   "display_name": "Python 3",
   "language": "python",
   "name": "python3"
  },
  "language_info": {
   "codemirror_mode": {
    "name": "ipython",
    "version": 3
   },
   "file_extension": ".py",
   "mimetype": "text/x-python",
   "name": "python",
   "nbconvert_exporter": "python",
   "pygments_lexer": "ipython3",
   "version": "3.7.4"
  }
 },
 "nbformat": 4,
 "nbformat_minor": 4
}
